{
 "cells": [
  {
   "cell_type": "code",
   "execution_count": 1,
   "metadata": {},
   "outputs": [],
   "source": [
    "import os\n",
    "import shutil"
   ]
  },
  {
   "cell_type": "code",
   "execution_count": 2,
   "metadata": {},
   "outputs": [],
   "source": [
    "def dividedYearBase(root,des):\n",
    "    img_files = [os.path.join(root,img_file) for img_file in os.listdir(root)]\n",
    "    \n",
    "    # check the year in the file name and copy to corresponding folder\n",
    "    for img_file in img_files:\n",
    "        if '2015-' in img_file:\n",
    "            shutil.copyfile(img_file, './'+des+'/2015/'+img_file.split('\\\\',1)[1])     \n",
    "        elif '2016-' in img_file:\n",
    "            shutil.copyfile(img_file, './'+des+'/2016/'+img_file.split('\\\\',1)[1]) \n",
    "        elif '2017-' in img_file:\n",
    "            shutil.copyfile(img_file, './'+des+'/2017/'+img_file.split('\\\\',1)[1]) \n",
    "        elif '2018-' in img_file:\n",
    "            shutil.copyfile(img_file, './'+des+'/2018/'+img_file.split('\\\\',1)[1]) \n",
    "        elif '2019-' in img_file:\n",
    "            shutil.copyfile(img_file, './'+des+'/2019/'+img_file.split('\\\\',1)[1])\n",
    "    print('files %d files in 2015: '%(len(os.listdir('./'+des+'/2015'))))\n",
    "    print('files %d files in 2016: '%(len(os.listdir('./'+des+'/2016'))))\n",
    "    print('files %d files in 2017: '%(len(os.listdir('./'+des+'/2017'))))\n",
    "    print('files %d files in 2018: '%(len(os.listdir('./'+des+'/2018'))))\n",
    "    print('files %d files in 2019: '%(len(os.listdir('./'+des+'/2019'))))"
   ]
  },
  {
   "cell_type": "code",
   "execution_count": 5,
   "metadata": {},
   "outputs": [
    {
     "name": "stdout",
     "output_type": "stream",
     "text": [
      "files 2 files in 2015: \n",
      "files 15 files in 2016: \n",
      "files 31 files in 2017: \n",
      "files 69 files in 2018: \n",
      "files 61 files in 2019: \n"
     ]
    }
   ],
   "source": [
    "# B11, B08, B02 bands images year base separation\n",
    "root1 = './b11b8b2-agriculture'\n",
    "des1 = './b11b8b2-agriculture-year-vice'\n",
    "dividedYearBase(root1,des1)"
   ]
  },
  {
   "cell_type": "code",
   "execution_count": 6,
   "metadata": {},
   "outputs": [
    {
     "name": "stdout",
     "output_type": "stream",
     "text": [
      "files 2 files in 2015: \n",
      "files 15 files in 2016: \n",
      "files 31 files in 2017: \n",
      "files 69 files in 2018: \n",
      "files 61 files in 2019: \n"
     ]
    }
   ],
   "source": [
    "# B11, B08, B04 bands images year base separation\n",
    "root2 = './b11b8b4-agriAnalysis'\n",
    "des2 = './b11b8b4-agriAnalysis-year-vice'\n",
    "dividedYearBase(root2,des2)"
   ]
  },
  {
   "cell_type": "code",
   "execution_count": null,
   "metadata": {},
   "outputs": [],
   "source": []
  }
 ],
 "metadata": {
  "kernelspec": {
   "display_name": "Python 3",
   "language": "python",
   "name": "python3"
  },
  "language_info": {
   "codemirror_mode": {
    "name": "ipython",
    "version": 3
   },
   "file_extension": ".py",
   "mimetype": "text/x-python",
   "name": "python",
   "nbconvert_exporter": "python",
   "pygments_lexer": "ipython3",
   "version": "3.7.5"
  }
 },
 "nbformat": 4,
 "nbformat_minor": 2
}
