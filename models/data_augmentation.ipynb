{
 "cells": [
  {
   "cell_type": "code",
   "execution_count": 2,
   "metadata": {},
   "outputs": [],
   "source": [
    "from keras.preprocessing.image import ImageDataGenerator, array_to_img, img_to_array, load_img\n",
    "import os"
   ]
  },
  {
   "cell_type": "code",
   "execution_count": 3,
   "metadata": {},
   "outputs": [],
   "source": [
    "datagen = ImageDataGenerator(\n",
    "        rotation_range=40,\n",
    "        width_shift_range=0.2,\n",
    "        heightoshift_range=0.2,\n",
    "        shear_range=0.2,\n",
    "        zoom_range=0.2,\n",
    "        horizontal_flip=True,\n",
    "        fill_mode='nearest')\n",
    "\n"
   ]
  },
  {
   "cell_type": "code",
   "execution_count": 12,
   "metadata": {},
   "outputs": [],
   "source": [
    "def create_image_agumentations(root, des):\n",
    "    classes = [direc for direc in os.listdir(root) \n",
    "               if os.path.isdir(os.path.join(root, direc))]\n",
    "    \n",
    "    # READ IMAGES IN CLASSES FOLDER AND AUGMENTATION 50 IMAGES\n",
    "    for i, direc in enumerate(classes):\n",
    "        for img_file in os.listdir(os.path.join(root, direc)): # HERE WE CAN GET THE ALL THE IMAGES BELOGS TO SOME FOLDER\n",
    "            _img = load_img(os.path.join(root,direc,img_file))\n",
    "            img_array  = img_to_array(_img)\n",
    "            img_array = img_array.reshape((1,) + img_array.shape) # SOMTHING LIKE (1,3,HIGHT,WIDTH)\n",
    "            \n",
    "            j = 0\n",
    "            for batch in datagen.flow(img_array, batch_size=1,\n",
    "                                      save_to_dir= des+'/'+classes[i], save_prefix=classes[i], save_format='jpg'):\n",
    "                j += 1\n",
    "                if j > 50:\n",
    "                    break \n",
    "            \n"
   ]
  },
  {
   "cell_type": "code",
   "execution_count": 14,
   "metadata": {},
   "outputs": [],
   "source": [
    "create_image_agumentations('./b11b8b2-dataset', './cnn-dataset')"
   ]
  },
  {
   "cell_type": "code",
   "execution_count": 15,
   "metadata": {},
   "outputs": [
    {
     "name": "stdout",
     "output_type": "stream",
     "text": [
      "landing 548 of images\n",
      "phase 1 689 of images\n",
      "phase 2 879 of images\n",
      "phase 3 935 of images\n"
     ]
    }
   ],
   "source": [
    "print('landing %d of images'%(len(os.listdir('./cnn-dataset/landing'))))\n",
    "print('phase 1 %d of images'%(len(os.listdir('./cnn-dataset/phase1-vegitative'))))\n",
    "print('phase 2 %d of images'%(len(os.listdir('./cnn-dataset/phase2-reproduction'))))\n",
    "print('phase 3 %d of images'%(len(os.listdir('./cnn-dataset/phase3-ripening'))))"
   ]
  },
  {
   "cell_type": "code",
   "execution_count": null,
   "metadata": {},
   "outputs": [],
   "source": []
  }
 ],
 "metadata": {
  "kernelspec": {
   "display_name": "Python 3",
   "language": "python",
   "name": "python3"
  },
  "language_info": {
   "codemirror_mode": {
    "name": "ipython",
    "version": 3
   },
   "file_extension": ".py",
   "mimetype": "text/x-python",
   "name": "python",
   "nbconvert_exporter": "python",
   "pygments_lexer": "ipython3",
   "version": "3.7.5"
  }
 },
 "nbformat": 4,
 "nbformat_minor": 4
}
