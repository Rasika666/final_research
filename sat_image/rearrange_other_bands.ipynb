{
 "cells": [
  {
   "cell_type": "markdown",
   "metadata": {},
   "source": [
    "# satellite images(B4,B3,B2 & B11,B8,B4) rearrange according to B11,B08,B02 images stages"
   ]
  },
  {
   "cell_type": "code",
   "execution_count": 26,
   "metadata": {},
   "outputs": [],
   "source": [
    "import os\n",
    "import shutil"
   ]
  },
  {
   "cell_type": "code",
   "execution_count": 36,
   "metadata": {},
   "outputs": [],
   "source": [
    "def rearrange(root, des):\n",
    "    \n",
    "    # get all the raw-images\n",
    "    raw_imgs = [img for img in os.listdir(os.path.join(des, 'raw-images'))]\n",
    "    \n",
    "    \n",
    "    for _root, _dirs, _files in os.walk(root):\n",
    "        if _files:\n",
    "            class_name = os.path.basename(_root)\n",
    "            for _file in _files:\n",
    "                classified_date = _file.split('_')[-2]\n",
    "                \n",
    "                # search that day of raw-img and remove it\n",
    "                for raw_img in raw_imgs:\n",
    "                    raw_date = raw_img.split('_')[-2]\n",
    "                    if classified_date == raw_date:\n",
    "                        # copy that to corresponding folder\n",
    "                        shutil.copyfile(src = os.path.join(des, 'raw-images', raw_img), \n",
    "                                        dst = os.path.join(des, class_name, raw_img)) # copy\n",
    "                        raw_imgs.remove(raw_img) # remove the item to accelerate the search \n",
    "     "
   ]
  },
  {
   "cell_type": "code",
   "execution_count": 37,
   "metadata": {},
   "outputs": [],
   "source": [
    "rearrange('./b11b8b2-dataset','./b4b3b2-rgb')"
   ]
  },
  {
   "cell_type": "code",
   "execution_count": 39,
   "metadata": {},
   "outputs": [],
   "source": [
    "rearrange('./b11b8b2-dataset','./b11b8b4-agriAnalysis')"
   ]
  },
  {
   "cell_type": "code",
   "execution_count": null,
   "metadata": {},
   "outputs": [],
   "source": []
  }
 ],
 "metadata": {
  "kernelspec": {
   "display_name": "Python 3",
   "language": "python",
   "name": "python3"
  },
  "language_info": {
   "codemirror_mode": {
    "name": "ipython",
    "version": 3
   },
   "file_extension": ".py",
   "mimetype": "text/x-python",
   "name": "python",
   "nbconvert_exporter": "python",
   "pygments_lexer": "ipython3",
   "version": "3.7.5"
  }
 },
 "nbformat": 4,
 "nbformat_minor": 4
}
